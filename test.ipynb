{
 "cells": [
  {
   "cell_type": "code",
   "execution_count": 1,
   "metadata": {},
   "outputs": [],
   "source": [
    "import torch\n",
    "import torch.nn as nn\n",
    "import torch.nn.functional as F\n",
    "import numpy as np\n",
    "from main import generate\n",
    "from model import Model"
   ]
  },
  {
   "cell_type": "code",
   "execution_count": 2,
   "metadata": {},
   "outputs": [],
   "source": [
    "datas = np.load('./data/tang.npz', allow_pickle=True)\n",
    "data = datas['data']\n",
    "word2ix = datas['word2ix'].item()\n",
    "ix2word = datas['ix2word'].item()"
   ]
  },
  {
   "cell_type": "code",
   "execution_count": 3,
   "metadata": {},
   "outputs": [
    {
     "data": {
      "text/plain": [
       "<All keys matched successfully>"
      ]
     },
     "execution_count": 3,
     "metadata": {},
     "output_type": "execute_result"
    }
   ],
   "source": [
    "model = Model(len(word2ix), 64, 128)\n",
    "model.load_state_dict(torch.load(r'models\\[2023-06-16-14_19_58]_49.pth', map_location=torch.device('cpu')))"
   ]
  },
  {
   "cell_type": "code",
   "execution_count": 4,
   "metadata": {},
   "outputs": [
    {
     "name": "stdout",
     "output_type": "stream",
     "text": [
      "望月抚琴情自长，\t不知何处是人间。\n",
      "一生不得无心事，\t一日无人不得知。\n",
      "一片风尘生白发，\t一枝红树落花枝。\n",
      "青山旧宅无人见，\t白日还应梦里看。\n",
      "云雨不知寒食酒，\t江边犹有旧人衣。\n",
      "江南旧客多愁远，\t海上春风不可寻。\n",
      "云雨夜深山鸟远，\t江南春雨雨中秋。\n",
      "谁知此地无人事，\t不是人间不得知。\n"
     ]
    }
   ],
   "source": [
    "from utils import fPrint\n",
    "fPrint(generate(model, '望月抚琴情自长，'))"
   ]
  },
  {
   "cell_type": "code",
   "execution_count": 7,
   "metadata": {},
   "outputs": [],
   "source": [
    "a = \"\".join(generate(model, '望月抚琴情自长，'))"
   ]
  },
  {
   "cell_type": "code",
   "execution_count": 12,
   "metadata": {},
   "outputs": [
    {
     "data": {
      "text/plain": [
       "'望月抚琴情自长，不知何处是人间。\\n一生不得无心事，一日无人不得知。\\n一片风尘生白发，一枝红树落花枝。\\n青山旧宅无人见，白日还应梦里看。\\n云雨不知寒食酒，江边犹有旧人衣。\\n江南旧客多愁远，海上春风不可寻。\\n云雨夜深山鸟远，江南春雨雨中秋。\\n谁知此地无人事，不是人间不得知。\\n'"
      ]
     },
     "execution_count": 12,
     "metadata": {},
     "output_type": "execute_result"
    }
   ],
   "source": [
    "\"\".join([i+'\\n' if i in ['。'] else i for i in a ])"
   ]
  },
  {
   "cell_type": "code",
   "execution_count": null,
   "metadata": {},
   "outputs": [],
   "source": []
  }
 ],
 "metadata": {
  "kernelspec": {
   "display_name": "py39",
   "language": "python",
   "name": "py39"
  },
  "language_info": {
   "codemirror_mode": {
    "name": "ipython",
    "version": 3
   },
   "file_extension": ".py",
   "mimetype": "text/x-python",
   "name": "python",
   "nbconvert_exporter": "python",
   "pygments_lexer": "ipython3",
   "version": "3.9.12"
  },
  "orig_nbformat": 4
 },
 "nbformat": 4,
 "nbformat_minor": 2
}
